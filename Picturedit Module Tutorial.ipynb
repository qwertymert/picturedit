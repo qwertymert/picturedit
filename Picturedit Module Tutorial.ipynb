{
 "cells": [
  {
   "cell_type": "markdown",
   "id": "326d5501",
   "metadata": {},
   "source": [
    "<center><h1><span style=\"color:red\">Picturedit Module Tutorial</span></h1></center>"
   ]
  },
  {
   "cell_type": "markdown",
   "id": "9fe9fe58",
   "metadata": {},
   "source": [
    "Author: Mert Gulsen <br>\n",
    "Course: YZV102E"
   ]
  },
  {
   "cell_type": "markdown",
   "id": "dba5de6f",
   "metadata": {},
   "source": [
    "<h3>Tutorial for picturedit image editing module for python3.</h3> <br> <h4>For this tutorial, please iterate through each code block manually and read explanations."
   ]
  },
  {
   "cell_type": "markdown",
   "id": "6688f20e",
   "metadata": {},
   "source": [
    "<h2><span style=\"color:black\">1) Importing module</span></h2>"
   ]
  },
  {
   "cell_type": "markdown",
   "id": "083eff55",
   "metadata": {},
   "source": [
    "Import Picture class from picturedit"
   ]
  },
  {
   "cell_type": "code",
   "execution_count": null,
   "id": "65e8b39e",
   "metadata": {},
   "outputs": [],
   "source": [
    "from picturedit import Picture"
   ]
  },
  {
   "cell_type": "markdown",
   "id": "cdedbbea",
   "metadata": {},
   "source": [
    "<hr><h2><span style=\"color:black\">2) Reading an image from a path</span></h2>"
   ]
  },
  {
   "cell_type": "markdown",
   "id": "ca950671",
   "metadata": {},
   "source": [
    "User can read an image by feeding the image path to Picture class"
   ]
  },
  {
   "cell_type": "code",
   "execution_count": null,
   "id": "b3021c4f",
   "metadata": {},
   "outputs": [],
   "source": [
    "my_image = Picture(\"Bird.jpg\")"
   ]
  },
  {
   "cell_type": "markdown",
   "id": "aeb4edba",
   "metadata": {},
   "source": [
    "b) User can also get raw image from class with <span style=\"color:red\">image</span> attribute and feed it to a different Picture object"
   ]
  },
  {
   "cell_type": "code",
   "execution_count": null,
   "id": "6e94b9e8",
   "metadata": {},
   "outputs": [],
   "source": [
    "raw_image = my_image.image  # get image of Picture object\n",
    "other_image = Picture(raw_image)  # create a Picture object with an image type"
   ]
  },
  {
   "cell_type": "markdown",
   "id": "c448b744",
   "metadata": {},
   "source": [
    "<hr><h2><span style=\"color:black\">3) Showing an image</span></h2>"
   ]
  },
  {
   "cell_type": "markdown",
   "id": "bec527b5",
   "metadata": {},
   "source": [
    "User can see their images with <span style=\"color:red\">show( )</span> method"
   ]
  },
  {
   "cell_type": "code",
   "execution_count": null,
   "id": "3ded083a",
   "metadata": {},
   "outputs": [],
   "source": [
    "my_image.show()  # see your image in a temporary window"
   ]
  },
  {
   "cell_type": "code",
   "execution_count": null,
   "id": "a9077689",
   "metadata": {},
   "outputs": [],
   "source": [
    "other_image.show()"
   ]
  },
  {
   "cell_type": "markdown",
   "id": "404e1699",
   "metadata": {},
   "source": [
    "<hr><h2><span style=\"color:black\">3) Image resizing</span></h2>"
   ]
  },
  {
   "cell_type": "markdown",
   "id": "8e557011",
   "metadata": {},
   "source": [
    "User can resize image with <span style=\"color:red\">resize( )</span> method."
   ]
  },
  {
   "cell_type": "markdown",
   "id": "071c9b9a",
   "metadata": {},
   "source": [
    "To resize an image, user should pass the percentage of scaling into <span style=\"color:red\">resize( )</span> method. Percentage can be in range [-100, 100]"
   ]
  },
  {
   "cell_type": "markdown",
   "id": "b6cdafa7",
   "metadata": {},
   "source": [
    "Examples: 25 would increase image size by 25 percent, -30 would decrase image size by 30 percent"
   ]
  },
  {
   "cell_type": "code",
   "execution_count": null,
   "id": "b1cb0f30",
   "metadata": {},
   "outputs": [],
   "source": [
    "my_image = Picture(\"Bird.jpg\")\n",
    "\n",
    "my_image.resize(25)\n",
    "\n",
    "my_image.show()"
   ]
  },
  {
   "cell_type": "code",
   "execution_count": null,
   "id": "5756294f",
   "metadata": {},
   "outputs": [],
   "source": [
    "my_image = Picture(\"Bird.jpg\")\n",
    "\n",
    "my_image.resize(-30)\n",
    "\n",
    "my_image.show()"
   ]
  },
  {
   "cell_type": "markdown",
   "id": "12e53af3",
   "metadata": {},
   "source": [
    "<hr><h2><span style=\"color:black\">4) Image filtering</span></h2>"
   ]
  },
  {
   "cell_type": "markdown",
   "id": "e6b3f5d2",
   "metadata": {},
   "source": [
    "<h4>User can filter images with <span style=\"color:red\">image_filter( )</span> method.\n",
    "Available filter names are listed below:</h4>\n",
    "<ul>\n",
    "  <li><span style=\"color:#AF1F1F\">\"gaussian_blur\"</span> : Blurs image with a 3x3 gaussian kernel</li>\n",
    "  <li><span style=\"color:#AF1F1F\">\"gaussian_blur_5x5\"</span> : Blurs image with a 5x5 gaussian kernel</li>\n",
    "  <li><span style=\"color:#AF1F1F\">\"emboss\"</span> : Emboss filter is used for edge detection</li>\n",
    "  <li><span style=\"color:#AF1F1F\">\"vertical_sobel\"</span> : Vertical sobel operator is used for vertical edge detection</li>\n",
    "  <li><span style=\"color:#AF1F1F\">\"bottom_sobel\"</span> : Bottom sobel operator is used for bottom edge detection</li>\n",
    "  <li><span style=\"color:#AF1F1F\">\"box_blur\" </span>: Known as mean blur, blurs image with a 3x3 kernel</li>\n",
    "  <li><span style=\"color:#AF1F1F\">\"distortion\" </span>: Distortion filter distorts image</li>\n",
    "</ul>"
   ]
  },
  {
   "cell_type": "code",
   "execution_count": null,
   "id": "f87c8a26",
   "metadata": {},
   "outputs": [],
   "source": [
    "my_image = Picture(\"Bird.jpg\")\n",
    "\n",
    "filter_name = \"bottom_sobel\"   # try other filters\n",
    "my_image.image_filter(filter_name)\n",
    "\n",
    "my_image.show()"
   ]
  },
  {
   "cell_type": "markdown",
   "id": "e030ef77",
   "metadata": {},
   "source": [
    "<hr><h2><span style=\"color:black\">5) Conversion to grayscale and binary </span></h2>"
   ]
  },
  {
   "cell_type": "markdown",
   "id": "1e02460a",
   "metadata": {},
   "source": [
    "<h4>User can convert RGB images to grayscale or black & white with <span style=\"color:red\">grayscale( )</span> and <span style=\"color:red\">binary( )</span> methods.</h4>"
   ]
  },
  {
   "cell_type": "markdown",
   "id": "5d26d586",
   "metadata": {},
   "source": [
    "a) Grayscale"
   ]
  },
  {
   "cell_type": "code",
   "execution_count": null,
   "id": "2aaafc87",
   "metadata": {},
   "outputs": [],
   "source": [
    "my_image = Picture(\"Bird.jpg\")\n",
    "\n",
    "my_image.grayscale()\n",
    "\n",
    "my_image.show()"
   ]
  },
  {
   "cell_type": "markdown",
   "id": "ecc406f3",
   "metadata": {},
   "source": [
    "b) Black and white (binary)"
   ]
  },
  {
   "cell_type": "code",
   "execution_count": null,
   "id": "1d8400ae",
   "metadata": {},
   "outputs": [],
   "source": [
    "my_image = Picture(\"Bird.jpg\")\n",
    "\n",
    "my_image.binary()\n",
    "\n",
    "my_image.show()"
   ]
  },
  {
   "cell_type": "markdown",
   "id": "a453adeb",
   "metadata": {},
   "source": [
    "<hr><h2><span style=\"color:black\">6) Brightness and Color adjustment</span></h2>"
   ]
  },
  {
   "cell_type": "markdown",
   "id": "47206c2f",
   "metadata": {},
   "source": [
    "<h4>User can adjust image brightness and colors with <span style=\"color:red\">brightness( )</span> and <span style=\"color:red\">color( )</span> methods </h4>"
   ]
  },
  {
   "cell_type": "markdown",
   "id": "da5203e1",
   "metadata": {},
   "source": [
    "<h4>a) Brightness </h4>"
   ]
  },
  {
   "cell_type": "markdown",
   "id": "3e539a5b",
   "metadata": {},
   "source": [
    "To change brightness, user should pass the percentage to adjust into <span style=\"color:red\">brightness( )</span> method. Percentage can be in range of [-100, 100]"
   ]
  },
  {
   "cell_type": "markdown",
   "id": "7ec8b160",
   "metadata": {},
   "source": [
    "Examples: 30 would increase brightness by %30, -40 would decrease brightness by %40"
   ]
  },
  {
   "cell_type": "code",
   "execution_count": null,
   "id": "19a34023",
   "metadata": {},
   "outputs": [],
   "source": [
    "my_image = Picture(\"Bird.jpg\")\n",
    "\n",
    "my_image.brightness(35)  # try different percentages\n",
    "\n",
    "my_image.show()"
   ]
  },
  {
   "cell_type": "markdown",
   "id": "aeb206a6",
   "metadata": {},
   "source": [
    "<h4>b) Color</h4>"
   ]
  },
  {
   "cell_type": "markdown",
   "id": "df678bd8",
   "metadata": {},
   "source": [
    "To adjust colors of an RGB image, user should pass two parameters into <span style=\"color:red\">color( )</span> method: percentage and color as r (red) , g (green) or b (blue)."
   ]
  },
  {
   "cell_type": "code",
   "execution_count": null,
   "id": "f8c489cb",
   "metadata": {},
   "outputs": [],
   "source": [
    "my_image = Picture(\"Bird.jpg\")\n",
    "\n",
    "my_image.color(35, \"r\")  # increase red color by 35 percent\n",
    "\n",
    "my_image.show()"
   ]
  },
  {
   "cell_type": "markdown",
   "id": "bada49f3",
   "metadata": {},
   "source": [
    "<hr><h2><span style=\"color:black\">7) Image orientation</span></h2>"
   ]
  },
  {
   "cell_type": "markdown",
   "id": "c5ddc929",
   "metadata": {},
   "source": [
    "<h4>User can change orientation of images with listed methods below</h4>\n",
    "<ul>\n",
    "  <li><span style=\"color:red\">rotate_90( )</span> : Rotates image 90 degrees in clockwise direction</li>\n",
    "  <li><span style=\"color:red\">rotate_counter_90( )</span> : Rotates image 90 degrees in counter-clockwise direction</li>\n",
    "  <li><span style=\"color:red\">vertical_flip( )</span> : Flips image relative to vertical axis</li>\n",
    "  <li><span style=\"color:red\">horizontal_flip( )</span>: Flips image relative to horizontal axis</li>\n",
    "</ul>"
   ]
  },
  {
   "cell_type": "code",
   "execution_count": null,
   "id": "55aabfb2",
   "metadata": {},
   "outputs": [],
   "source": [
    "my_image = Picture(\"Bird.jpg\")\n",
    "my_image.rotate_90()  # Rotate 90 degree in clockwise direction\n",
    "my_image.show()"
   ]
  },
  {
   "cell_type": "code",
   "execution_count": null,
   "id": "2177d8b7",
   "metadata": {},
   "outputs": [],
   "source": [
    "my_image = Picture(\"Bird.jpg\")\n",
    "my_image.rotate_counter_90()  # Rotate 90 degree in counter-clockwise direction\n",
    "my_image.show()"
   ]
  },
  {
   "cell_type": "code",
   "execution_count": null,
   "id": "78325e2e",
   "metadata": {},
   "outputs": [],
   "source": [
    "my_image = Picture(\"Bird.jpg\")\n",
    "my_image.vertical_flip()  # Flip relative to vertical axis\n",
    "my_image.show()"
   ]
  },
  {
   "cell_type": "code",
   "execution_count": null,
   "id": "25c6e87d",
   "metadata": {},
   "outputs": [],
   "source": [
    "my_image = Picture(\"Bird.jpg\")\n",
    "my_image.horizontal_flip()  # Flip relative to horizontal axis\n",
    "my_image.show()"
   ]
  },
  {
   "cell_type": "markdown",
   "id": "bdd0e9d5",
   "metadata": {},
   "source": [
    "<hr><h2><span style=\"color:black\">8) Saving image</span></h2>"
   ]
  },
  {
   "cell_type": "markdown",
   "id": "0add6dcb",
   "metadata": {},
   "source": [
    "Images can be saved with <span style=\"color:red\">save( )</span> method."
   ]
  },
  {
   "cell_type": "markdown",
   "id": "eae3a15d",
   "metadata": {},
   "source": [
    "User can either pass a new filename or not. Code will try to optimize filename to avoid any errors.<br>\n",
    "On interactive notebook, user should a give proper filename with an extension to avoid permission errors."
   ]
  },
  {
   "cell_type": "code",
   "execution_count": null,
   "id": "0dbae6a2",
   "metadata": {},
   "outputs": [],
   "source": [
    "my_image = Picture(\"Bird.jpg\")\n",
    "\n",
    "my_image.image_filter(\"gaussian_blur\")\n",
    "my_image.vertical_flip()\n",
    "my_image.resize(20)\n",
    "my_image.color(25, \"g\")\n",
    "my_image.brightness(5)\n",
    "\n",
    "my_image.save(\"Edited_bird.jpg\")"
   ]
  }
 ],
 "metadata": {
  "kernelspec": {
   "display_name": "Python 3 (ipykernel)",
   "language": "python",
   "name": "python3"
  },
  "language_info": {
   "codemirror_mode": {
    "name": "ipython",
    "version": 3
   },
   "file_extension": ".py",
   "mimetype": "text/x-python",
   "name": "python",
   "nbconvert_exporter": "python",
   "pygments_lexer": "ipython3",
   "version": "3.8.10"
  }
 },
 "nbformat": 4,
 "nbformat_minor": 5
}
